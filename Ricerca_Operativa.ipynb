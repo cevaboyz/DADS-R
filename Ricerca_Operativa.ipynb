{
  "nbformat": 4,
  "nbformat_minor": 0,
  "metadata": {
    "colab": {
      "provenance": [],
      "toc_visible": true,
      "authorship_tag": "ABX9TyOaq6Sb+lzDSDNmyjYmF+NA",
      "include_colab_link": true
    },
    "kernelspec": {
      "name": "python3",
      "display_name": "Python 3"
    },
    "language_info": {
      "name": "python"
    }
  },
  "cells": [
    {
      "cell_type": "markdown",
      "metadata": {
        "id": "view-in-github",
        "colab_type": "text"
      },
      "source": [
        "<a href=\"https://colab.research.google.com/github/cevaboyz/DADS-R/blob/master/Ricerca_Operativa.ipynb\" target=\"_parent\"><img src=\"https://colab.research.google.com/assets/colab-badge.svg\" alt=\"Open In Colab\"/></a>"
      ]
    },
    {
      "cell_type": "markdown",
      "source": [
        "# Definizione Ambiente"
      ],
      "metadata": {
        "id": "pObvsWBwJW8i"
      }
    },
    {
      "cell_type": "markdown",
      "source": [
        "Configurazione Environment"
      ],
      "metadata": {
        "id": "vs7TEQSpHuPN"
      }
    },
    {
      "cell_type": "code",
      "execution_count": 3,
      "metadata": {
        "colab": {
          "base_uri": "https://localhost:8080/"
        },
        "outputId": "def55dd5-04e4-47d0-88b4-9fa873a2bd63",
        "id": "J68m2zn4JvbL"
      },
      "outputs": [
        {
          "output_type": "stream",
          "name": "stdout",
          "text": [
            "Licensed to AMPL Community Edition License for <andrea.castagna1994@gmail.com>.\n"
          ]
        }
      ],
      "source": [
        "%pip install -q amplpy\n",
        "from amplpy import AMPL, ampl_notebook\n",
        "ampl = ampl_notebook(\n",
        "    modules=[\"highs\", \"cbc\", \"gurobi\", \"cplex\"], # pick from over 20 modules including most commercial and open-source solvers\n",
        "    license_uuid=\"68020142-a1aa-48f9-8db3-02ba816fb57d\") # your license UUID (e.g., free ampl.com/ce or ampl.com/courses licenses)"
      ]
    },
    {
      "cell_type": "markdown",
      "source": [
        "# Modellazione Algebrica"
      ],
      "metadata": {
        "id": "35_qE77vLeI5"
      }
    },
    {
      "cell_type": "code",
      "source": [],
      "metadata": {
        "id": "pH3SKvKRLjRo"
      },
      "execution_count": null,
      "outputs": []
    }
  ]
}